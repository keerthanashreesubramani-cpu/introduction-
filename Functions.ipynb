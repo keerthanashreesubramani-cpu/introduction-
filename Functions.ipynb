{
  "nbformat": 4,
  "nbformat_minor": 0,
  "metadata": {
    "colab": {
      "provenance": [],
      "authorship_tag": "ABX9TyMNRy6aFB7L3uswNFjAAZHU",
      "include_colab_link": true
    },
    "kernelspec": {
      "name": "python3",
      "display_name": "Python 3"
    },
    "language_info": {
      "name": "python"
    }
  },
  "cells": [
    {
      "cell_type": "markdown",
      "metadata": {
        "id": "view-in-github",
        "colab_type": "text"
      },
      "source": [
        "<a href=\"https://colab.research.google.com/github/keerthanashreesubramani-cpu/introduction-/blob/main/Functions.ipynb\" target=\"_parent\"><img src=\"https://colab.research.google.com/assets/colab-badge.svg\" alt=\"Open In Colab\"/></a>"
      ]
    },
    {
      "cell_type": "markdown",
      "source": [
        " **Python Functions**\n",
        " Python Functions are a block of statements that does a specific task. The idea is to put some commonly or repeatedly done task together and make a function so that instead of writing the same code again and again for different inputs, we can do the function calls to reuse code contained in it over and over again.\n"
      ],
      "metadata": {
        "id": "uXKaivqHK8Le"
      }
    },
    {
      "cell_type": "markdown",
      "source": [
        "**Defining a Function:**\n",
        "We can define a function in Python, using the def keyword. We can add any type of functionalities and properties to it as we require.\n",
        "\n",
        "The def keyword stands for define. It is used to create a user-defined function. It marks the beginning of a function block and allows you to group a set of statements so they can be reused when the function is called."
      ],
      "metadata": {
        "id": "_8OTBQ9iLmUa"
      }
    },
    {
      "cell_type": "markdown",
      "source": [
        "**Syntax:**\n",
        "def function_name(parameters):\n",
        "    # function body"
      ],
      "metadata": {
        "id": "rjcyprlhLrbt"
      }
    },
    {
      "cell_type": "markdown",
      "source": [
        "**Explanation:**\n",
        "\n",
        "def: Starts the function definition.\n",
        "function_name: Name of the function.\n",
        "parameters: Inputs passed to the function (inside ()), optional.\n",
        "Indented code: The function body that runs when called."
      ],
      "metadata": {
        "id": "KJQVa08LL3_E"
      }
    },
    {
      "cell_type": "code",
      "source": [
        "def fun():\n",
        "    print(\"Welcome to RBG\")"
      ],
      "metadata": {
        "id": "-yOy8jP_L8yU"
      },
      "execution_count": null,
      "outputs": []
    },
    {
      "cell_type": "markdown",
      "source": [
        "**Calling a Function**\n",
        "After creating a function in Python we can call it by using the name of the functions followed by parenthesis containing parameters of that particular function."
      ],
      "metadata": {
        "id": "4AZ1AqaaMD-K"
      }
    },
    {
      "cell_type": "code",
      "source": [
        "def fun():\n",
        "    print(\"Welcome to RBG\")\n",
        "\n",
        "fun()"
      ],
      "metadata": {
        "colab": {
          "base_uri": "https://localhost:8080/"
        },
        "id": "pOGRuvItLKB6",
        "outputId": "4686a250-69f4-4c39-da4b-6d1b12dfe521"
      },
      "execution_count": null,
      "outputs": [
        {
          "output_type": "stream",
          "name": "stdout",
          "text": [
            "Welcome to RBG\n"
          ]
        }
      ]
    },
    {
      "cell_type": "markdown",
      "source": [
        "**Function Arguments**\n",
        "Arguments are the values passed inside the parenthesis of the function. A function can have any number of arguments separated by a comma."
      ],
      "metadata": {
        "id": "Dd4bBRS_MWev"
      }
    },
    {
      "cell_type": "code",
      "source": [
        "def evenOdd(x):\n",
        "    if (x % 2 == 0):\n",
        "        return \"Even\"\n",
        "    else:\n",
        "        return \"Odd\"\n",
        "\n",
        "print(evenOdd(16))\n",
        "print(evenOdd(7))"
      ],
      "metadata": {
        "colab": {
          "base_uri": "https://localhost:8080/"
        },
        "id": "jn6sC_TwMNfS",
        "outputId": "1bd6363d-538d-4783-96bb-4f0d807dba77"
      },
      "execution_count": null,
      "outputs": [
        {
          "output_type": "stream",
          "name": "stdout",
          "text": [
            "Even\n",
            "Odd\n"
          ]
        }
      ]
    },
    {
      "cell_type": "markdown",
      "source": [
        "**Types of Function Arguments**\n",
        "Python supports various types of arguments that can be passed at the time of the function call. In Python, we have the following function argument types in Python, Let's explore them one by one."
      ],
      "metadata": {
        "id": "mLEBJppJMjlH"
      }
    },
    {
      "cell_type": "markdown",
      "source": [
        "**1. Default Arguments**\n",
        "A default argument is a parameter that assumes a default value if a value is not provided in the function call for that argument.\n"
      ],
      "metadata": {
        "id": "CGNweUYhMrYJ"
      }
    },
    {
      "cell_type": "code",
      "source": [
        "def myFun(x, y=50):\n",
        "    print(\"x: \", x)\n",
        "    print(\"y: \", y)\n",
        "\n",
        "myFun(10)"
      ],
      "metadata": {
        "colab": {
          "base_uri": "https://localhost:8080/"
        },
        "id": "X0VST2FgMd2-",
        "outputId": "77c6b7d8-0c5c-4576-8a45-8a4f3bd3d78c"
      },
      "execution_count": null,
      "outputs": [
        {
          "output_type": "stream",
          "name": "stdout",
          "text": [
            "x:  10\n",
            "y:  50\n"
          ]
        }
      ]
    },
    {
      "cell_type": "markdown",
      "source": [
        "**2. Keyword Arguments**\n",
        "In keyword arguments, values are passed by explicitly specifying the parameter names, so the order doesn’t matter."
      ],
      "metadata": {
        "id": "fRQ0YG8VM0F-"
      }
    },
    {
      "cell_type": "code",
      "source": [
        "def student(fname, lname):\n",
        "    print(fname, lname)\n",
        "\n",
        "student(fname='RBG', lname='Welcome You')\n",
        "student(lname='Welcome You', fname='RBG')"
      ],
      "metadata": {
        "colab": {
          "base_uri": "https://localhost:8080/"
        },
        "id": "VMRARg43MwjP",
        "outputId": "a2e1790a-4b92-4804-cc6a-95c213f900e0"
      },
      "execution_count": null,
      "outputs": [
        {
          "output_type": "stream",
          "name": "stdout",
          "text": [
            "RBG Welcome You\n",
            "RBG Welcome You\n"
          ]
        }
      ]
    },
    {
      "cell_type": "markdown",
      "source": [
        "**3. Positional Arguments**\n",
        "In positional arguments, values are assigned to parameters based on their order in the function call."
      ],
      "metadata": {
        "id": "cGAlRktsNRuN"
      }
    },
    {
      "cell_type": "code",
      "source": [
        "def nameAge(name, age):\n",
        "    print(\"Hi, I am\", name)\n",
        "    print(\"My age is \", age)\n",
        "\n",
        "print(\"Case-1:\")\n",
        "nameAge(\"Suraj\", 27)\n",
        "\n",
        "print(\"\\nCase-2:\")\n",
        "nameAge(27, \"Suraj\")"
      ],
      "metadata": {
        "colab": {
          "base_uri": "https://localhost:8080/"
        },
        "id": "-mBXYJN8M4pX",
        "outputId": "d0a192a0-a270-477c-b0e2-af1ddd6cf94f"
      },
      "execution_count": null,
      "outputs": [
        {
          "output_type": "stream",
          "name": "stdout",
          "text": [
            "Case-1:\n",
            "Hi, I am Suraj\n",
            "My age is  27\n",
            "\n",
            "Case-2:\n",
            "Hi, I am 27\n",
            "My age is  Suraj\n"
          ]
        }
      ]
    },
    {
      "cell_type": "markdown",
      "source": [
        "**4. Arbitrary Arguments**\n",
        "In Python Arbitrary Keyword Arguments, *args and **kwargs can pass a variable number of arguments to a function using special symbols. There are two special symbols:\n",
        "\n",
        "*args in Python (Non-Keyword Arguments)\n",
        "**kwargs in Python (Keyword Arguments)\n",
        "This code separately shows non-keyword (*args) and keyword (**kwargs) arguments in the same function."
      ],
      "metadata": {
        "id": "sXEDzaK_NauX"
      }
    },
    {
      "cell_type": "code",
      "source": [
        "def myFun(*args, **kwargs):\n",
        "    print(\"Non-Keyword Arguments (*args):\")\n",
        "    for arg in args:\n",
        "        print(arg)\n",
        "\n",
        "    print(\"\\nKeyword Arguments (**kwargs):\")\n",
        "    for key, value in kwargs.items():\n",
        "        print(f\"{key} == {value}\")\n",
        "\n",
        "# Function call with both types of arguments\n",
        "myFun('Hey', 'Welcome', first='RBG', mid='for', last='Learning')"
      ],
      "metadata": {
        "colab": {
          "base_uri": "https://localhost:8080/"
        },
        "id": "ANGQHW17NVPy",
        "outputId": "eff4eab0-1af0-47d2-9c1d-4e56d15d3026"
      },
      "execution_count": null,
      "outputs": [
        {
          "output_type": "stream",
          "name": "stdout",
          "text": [
            "Non-Keyword Arguments (*args):\n",
            "Hey\n",
            "Welcome\n",
            "\n",
            "Keyword Arguments (**kwargs):\n",
            "first == RBG\n",
            "mid == for\n",
            "last == Learning\n"
          ]
        }
      ]
    },
    {
      "cell_type": "markdown",
      "source": [
        "**Function within Functions**\n",
        "A function defined inside another function is called an inner function (or nested function). It can access variables from the enclosing function’s scope and is often used to keep logic protected and organized."
      ],
      "metadata": {
        "id": "PL3hm_VZNyol"
      }
    },
    {
      "cell_type": "code",
      "source": [
        "def f1():\n",
        "    s = 'I Like to work with RBG'\n",
        "    def f2():\n",
        "        print(s)\n",
        "\n",
        "    f2()\n",
        "f1()"
      ],
      "metadata": {
        "colab": {
          "base_uri": "https://localhost:8080/"
        },
        "id": "6OGK-9I3NqWN",
        "outputId": "e4e70641-58c9-4ba0-9e03-6c1cb59275ae"
      },
      "execution_count": null,
      "outputs": [
        {
          "output_type": "stream",
          "name": "stdout",
          "text": [
            "I Like to work with RBG\n"
          ]
        }
      ]
    },
    {
      "cell_type": "markdown",
      "source": [
        "**Anonymous Functions**\n",
        "In Python, an anonymous function means that a function is without a name. As we already know the def keyword is used to define the normal functions and the lambda keyword is used to create anonymous functions."
      ],
      "metadata": {
        "id": "DDtrt5HCOFkP"
      }
    },
    {
      "cell_type": "code",
      "source": [
        "def cube(x): return x*x*x   # without lambda\n",
        "cube_l = lambda x : x*x*x  # with lambda\n",
        "\n",
        "print(cube(7))\n",
        "print(cube_l(7))"
      ],
      "metadata": {
        "colab": {
          "base_uri": "https://localhost:8080/"
        },
        "id": "98m-H5WfN214",
        "outputId": "f6367c61-3138-4b21-a287-29d69944da51"
      },
      "execution_count": null,
      "outputs": [
        {
          "output_type": "stream",
          "name": "stdout",
          "text": [
            "343\n",
            "343\n"
          ]
        }
      ]
    },
    {
      "cell_type": "markdown",
      "source": [
        "**Return Statement in Function**\n",
        "The return statement ends a function and sends a value back to the caller. It can return any data type, multiple values (packed into a tuple), or None if no value is given."
      ],
      "metadata": {
        "id": "DTDW6Rf_OQJ2"
      }
    },
    {
      "cell_type": "code",
      "source": [
        "def square_value(num):\n",
        "    return num**2\n",
        "\n",
        "print(square_value(2))\n",
        "print(square_value(-4))"
      ],
      "metadata": {
        "colab": {
          "base_uri": "https://localhost:8080/"
        },
        "id": "l6JXVYESOJt8",
        "outputId": "28ac5883-b487-4a54-a16c-03d1b93c9de4"
      },
      "execution_count": null,
      "outputs": [
        {
          "output_type": "stream",
          "name": "stdout",
          "text": [
            "4\n",
            "16\n"
          ]
        }
      ]
    },
    {
      "cell_type": "markdown",
      "source": [
        "***Pass by Reference and Pass by Value***\n",
        "In Python, variables are references to objects. When we pass them to a function, the behavior depends on whether the object is mutable (like lists, dictionaries) or immutable (like integers, strings, tuples).\n",
        "\n",
        "Mutable objects: Changes inside the function affect the original object.\n",
        "Immutable objects: The original value remains unchanged."
      ],
      "metadata": {
        "id": "izdjMjnCOZaT"
      }
    },
    {
      "cell_type": "code",
      "source": [
        "def myFun(x):\n",
        "    x[0] = 20\n",
        "\n",
        "lst = [10, 11, 12, 13]\n",
        "myFun(lst)\n",
        "print(lst)   # list is modified\n",
        "\n",
        "# Function tries to modify an integer\n",
        "def myFun2(x):\n",
        "    x = 20\n",
        "\n",
        "a = 10\n",
        "myFun2(a)\n",
        "print(a)     # integer is not modified"
      ],
      "metadata": {
        "colab": {
          "base_uri": "https://localhost:8080/"
        },
        "id": "I-wtBCdrOT0n",
        "outputId": "738acb27-0278-4812-a8b3-26f6bfee80ea"
      },
      "execution_count": null,
      "outputs": [
        {
          "output_type": "stream",
          "name": "stdout",
          "text": [
            "[20, 11, 12, 13]\n",
            "10\n"
          ]
        }
      ]
    },
    {
      "cell_type": "markdown",
      "source": [
        "**Recursive Functions**\n",
        "A recursive function is a function that calls itself to solve a problem. It is commonly used in mathematical and divide-and-conquer problems. Always include a base case to avoid infinite recursion."
      ],
      "metadata": {
        "id": "HTSxaaPXOnBi"
      }
    },
    {
      "cell_type": "code",
      "source": [
        "def factorial(n):\n",
        "    if n == 0:\n",
        "        return 1\n",
        "    else:\n",
        "        return n * factorial(n - 1)\n",
        "\n",
        "print(factorial(4))"
      ],
      "metadata": {
        "colab": {
          "base_uri": "https://localhost:8080/"
        },
        "id": "xBinDEeWOgMm",
        "outputId": "e05d708f-f821-4ea1-9cdb-53a0d7164bd5"
      },
      "execution_count": null,
      "outputs": [
        {
          "output_type": "stream",
          "name": "stdout",
          "text": [
            "24\n"
          ]
        }
      ]
    },
    {
      "cell_type": "code",
      "source": [],
      "metadata": {
        "id": "YHS4dmRDOszf"
      },
      "execution_count": null,
      "outputs": []
    }
  ]
}