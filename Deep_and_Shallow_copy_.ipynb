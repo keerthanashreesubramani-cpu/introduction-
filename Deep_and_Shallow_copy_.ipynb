{
  "nbformat": 4,
  "nbformat_minor": 0,
  "metadata": {
    "colab": {
      "provenance": [],
      "authorship_tag": "ABX9TyPVNmuRLae4gygOF4/68aqO",
      "include_colab_link": true
    },
    "kernelspec": {
      "name": "python3",
      "display_name": "Python 3"
    },
    "language_info": {
      "name": "python"
    }
  },
  "cells": [
    {
      "cell_type": "markdown",
      "metadata": {
        "id": "view-in-github",
        "colab_type": "text"
      },
      "source": [
        "<a href=\"https://colab.research.google.com/github/keerthanashreesubramani-cpu/introduction-/blob/main/Deep_and_Shallow_copy_.ipynb\" target=\"_parent\"><img src=\"https://colab.research.google.com/assets/colab-badge.svg\" alt=\"Open In Colab\"/></a>"
      ]
    },
    {
      "cell_type": "markdown",
      "source": [
        "**Deep Copy and Shallow Copy in **\n",
        "\n",
        "In Python, assignment statements create references to the same object rather than copying it. Python provides the copy module to create actual copies which offer functions for shallow (copy.copy()) and deep (copy. deepcopy ()) copies.\n"
      ],
      "metadata": {
        "id": "a7mCFSlEW0ct"
      }
    },
    {
      "cell_type": "markdown",
      "source": [
        "**Deep copy in Python**\n",
        "A deep copy creates a new compound object before inserting copies of the items found in the original into it in a recursive manner.\n",
        "It will first construct a new collection object and then recursively populate it with copies of the child objects found in the original. It means that any changes made to a copy of the object do not reflect in the original object."
      ],
      "metadata": {
        "id": "Ard6XVsKXKSp"
      }
    },
    {
      "cell_type": "markdown",
      "source": [
        "**Syntax of Python Deepcopy**\n",
        "copy.deepcopy()"
      ],
      "metadata": {
        "id": "CsCEJQxWXUfZ"
      }
    },
    {
      "cell_type": "code",
      "source": [
        "import copy\n",
        "a = [[1, 2, 3], [4, 5, 6]]\n",
        "b = copy.deepcopy(a)\n",
        "b[0][0] = 99\n",
        "print(a)\n",
        "print(b)"
      ],
      "metadata": {
        "colab": {
          "base_uri": "https://localhost:8080/"
        },
        "id": "R9WAt9NCWzZQ",
        "outputId": "4602d77b-69de-457c-d1c8-6083b2881c37"
      },
      "execution_count": null,
      "outputs": [
        {
          "output_type": "stream",
          "name": "stdout",
          "text": [
            "[[1, 2, 3], [4, 5, 6]]\n",
            "[[99, 2, 3], [4, 5, 6]]\n"
          ]
        }
      ]
    },
    {
      "cell_type": "markdown",
      "source": [
        "**Shallow copy in Python**\n",
        "A shallow copy creates a new object but retains references to the objects contained within the original. It only copies the top-level structure without duplicating nested elements.\n",
        "Changes made to a copy of an object do reflect in the original object. In python, this is implemented using the \"copy.copy()\" function."
      ],
      "metadata": {
        "id": "WiZD4x4cXuyY"
      }
    },
    {
      "cell_type": "markdown",
      "source": [
        "**Syntax of Python Shallowcopy**\n",
        "copy.copy()"
      ],
      "metadata": {
        "id": "XGgJRS6qX0oJ"
      }
    },
    {
      "cell_type": "code",
      "source": [
        "import copy\n",
        "a = [[1, 2, 3], [4, 5, 6]]\n",
        "b = copy.copy(a)\n",
        "b[0][0] = 99\n",
        "print(a)\n",
        "print(b)"
      ],
      "metadata": {
        "colab": {
          "base_uri": "https://localhost:8080/"
        },
        "id": "siLLFzHkXbTM",
        "outputId": "8d8f4fdd-2bdd-4140-c687-2de3aab644a1"
      },
      "execution_count": null,
      "outputs": [
        {
          "output_type": "stream",
          "name": "stdout",
          "text": [
            "[[99, 2, 3], [4, 5, 6]]\n",
            "[[99, 2, 3], [4, 5, 6]]\n"
          ]
        }
      ]
    },
    {
      "cell_type": "code",
      "source": [],
      "metadata": {
        "id": "d7_G0Pd4YAP7"
      },
      "execution_count": null,
      "outputs": []
    }
  ]
}