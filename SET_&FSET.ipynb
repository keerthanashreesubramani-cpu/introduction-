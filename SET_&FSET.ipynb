{
  "nbformat": 4,
  "nbformat_minor": 0,
  "metadata": {
    "colab": {
      "provenance": [],
      "authorship_tag": "ABX9TyOI+tgdFgZyJvrUuPsEGcZE",
      "include_colab_link": true
    },
    "kernelspec": {
      "name": "python3",
      "display_name": "Python 3"
    },
    "language_info": {
      "name": "python"
    }
  },
  "cells": [
    {
      "cell_type": "markdown",
      "metadata": {
        "id": "view-in-github",
        "colab_type": "text"
      },
      "source": [
        "<a href=\"https://colab.research.google.com/github/keerthanashreesubramani-cpu/introduction-/blob/main/SET_%26FSET.ipynb\" target=\"_parent\"><img src=\"https://colab.research.google.com/assets/colab-badge.svg\" alt=\"Open In Colab\"/></a>"
      ]
    },
    {
      "cell_type": "markdown",
      "source": [
        "# `SET`\n",
        "\n",
        "Python set is an unordered collection of multiple items having different datatypes. In Python, sets are mutable, unindexed and do not contain duplicates. The order of elements in a set is not preserved and can change.\n",
        "Can store None values.\n",
        "Implemented using hash tables internally.\n",
        "Do not implement interfaces like Serializable or Cloneable.\n",
        "Python sets are not inherently thread-safe; synchronization is needed if used across threads.\n",
        "\n",
        "\n",
        "\n"
      ],
      "metadata": {
        "id": "q2W_IJLeJ5f5"
      }
    },
    {
      "cell_type": "code",
      "execution_count": null,
      "metadata": {
        "colab": {
          "base_uri": "https://localhost:8080/"
        },
        "id": "Ttv2Gx4zJ3qu",
        "outputId": "706ca1dc-e5d7-4b1d-b523-21822feec8ae"
      },
      "outputs": [
        {
          "output_type": "stream",
          "name": "stdout",
          "text": [
            "{1, 2, 3, 4}\n"
          ]
        }
      ],
      "source": [
        "set1 = {1, 2, 3, 4}\n",
        "print(set1)"
      ]
    },
    {
      "cell_type": "code",
      "source": [
        "set1 = set()\n",
        "print(set1)\n",
        "\n",
        "set1 = set(\"RBG\")\n",
        "print(set1)\n",
        "\n",
        "# Creating a Set with the use of a List\n",
        "set1 = set([\"Welcome\", \"To\", \"RBG\"])\n",
        "print(set1)\n",
        "\n",
        "# Creating a Set with the use of a tuple\n",
        "tup = (\"Welcome\", \"To\", \"RBG\")\n",
        "print(set(tup))\n",
        "\n",
        "# Creating a Set with the use of a dictionary\n",
        "d = {\"Welcome\": 1, \"to\": 2, \"RBG\": 3}\n",
        "print(set(d))"
      ],
      "metadata": {
        "colab": {
          "base_uri": "https://localhost:8080/"
        },
        "id": "fQVl6-MjKxfN",
        "outputId": "d3645bcc-6f0e-44fc-9807-99f89b89462c"
      },
      "execution_count": null,
      "outputs": [
        {
          "output_type": "stream",
          "name": "stdout",
          "text": [
            "set()\n",
            "{'R', 'B', 'G'}\n",
            "{'RBG', 'To', 'Welcome'}\n",
            "{'RBG', 'To', 'Welcome'}\n",
            "{'RBG', 'Welcome', 'to'}\n"
          ]
        }
      ]
    },
    {
      "cell_type": "markdown",
      "source": [
        "**Unordered, Unindexed and Mutability**\n",
        "In set, the order of elements is not guaranteed to be the same as the order in which they were added. The output could vary each time we run the program. Also the duplicate items entered are removed by itself.\n",
        "\n",
        "Sets do not support indexing. Trying to access an element by index (set[0]) raises a TypeError.\n",
        "\n",
        "We can add elements to the set using add(). We can remove elements from the set using remove(). The set changes after these operations, demonstrating its mutability. However, we cannot changes its items directly."
      ],
      "metadata": {
        "id": "oSHYQkfaLZyi"
      }
    },
    {
      "cell_type": "code",
      "source": [
        "set1 = {3, 1, 4, 1, 5, 9, 2}\n",
        "\n",
        "print(set1)  # Output may vary: {1, 2, 3, 4, 5, 9}\n",
        "\n",
        "# Unindexed: Accessing elements by index is not possible\n",
        "# This will raise a TypeError\n",
        "try:\n",
        "    print(set1[0])\n",
        "except TypeError as e:\n",
        "    print(e)"
      ],
      "metadata": {
        "colab": {
          "base_uri": "https://localhost:8080/"
        },
        "id": "5wYtozSkLQK1",
        "outputId": "7116bd88-8adc-49ed-cccb-33038a9ee300"
      },
      "execution_count": null,
      "outputs": [
        {
          "output_type": "stream",
          "name": "stdout",
          "text": [
            "{1, 2, 3, 4, 5, 9}\n",
            "'set' object is not subscriptable\n"
          ]
        }
      ]
    },
    {
      "cell_type": "markdown",
      "source": [
        "**Adding Elements to a Set in Python**\n",
        "We can add items to a set using add() method and update() method. add() method can be used to add only a single item. To add multiple items we use update() method."
      ],
      "metadata": {
        "id": "tAII7TPVLnkt"
      }
    },
    {
      "cell_type": "code",
      "source": [
        "# Creating a set\n",
        "set1 = {1, 2, 3}\n",
        "\n",
        "# Add one item\n",
        "set1.add(4)\n",
        "\n",
        "# Add multiple items\n",
        "set1.update([5, 6])\n",
        "\n",
        "print(set1)"
      ],
      "metadata": {
        "colab": {
          "base_uri": "https://localhost:8080/"
        },
        "id": "PGpgc5B1Lmk7",
        "outputId": "8c0f76ba-bf8d-49a1-8ebc-8bdf0c83d904"
      },
      "execution_count": null,
      "outputs": [
        {
          "output_type": "stream",
          "name": "stdout",
          "text": [
            "{1, 2, 3, 4, 5, 6}\n"
          ]
        }
      ]
    },
    {
      "cell_type": "markdown",
      "source": [
        "**Accessing a Set in Python**\n",
        "We can loop through a set to access set items as set is unindexed and do not support accessing elements by indexing. Also we can use in keyword which is membership operator to check if an item exists in a set.\n",
        "\n",
        "Example:"
      ],
      "metadata": {
        "id": "38J4bL0-Lv2P"
      }
    },
    {
      "cell_type": "code",
      "source": [
        "set1 = set([\"Welcome\", \"To\", \"RBG\"])\n",
        "\n",
        "# Accessing element using For loop\n",
        "for i in set1:\n",
        "    print(i, end=\" \")\n",
        "\n",
        "# Checking the element# using in keyword\n",
        "print(\"Welcome\" in set1)"
      ],
      "metadata": {
        "colab": {
          "base_uri": "https://localhost:8080/"
        },
        "id": "c2ut0_reLJI-",
        "outputId": "5f74ff06-961b-4da4-c02f-de7c4283310d"
      },
      "execution_count": null,
      "outputs": [
        {
          "output_type": "stream",
          "name": "stdout",
          "text": [
            "RBG To Welcome True\n"
          ]
        }
      ]
    },
    {
      "cell_type": "markdown",
      "source": [
        "**Removing Elements from the Set in Python**\n",
        "We can remove an element from a set in Python using several methods: remove(), discard() and pop(). Each method works slightly differently :\n",
        "\n",
        "Using remove() Method or discard() Method\n",
        "Using pop() Method\n",
        "Using clear() Method\n",
        "Using remove() Method or discard() Method\n",
        "remove() method removes a specified element from the set. If the element is not present in the set, it raises a KeyError. discard() method also removes a specified element from the set. Unlike remove(), if the element is not found, it does not raise an error.\n",
        "\n",
        "\n",
        "\n",
        "\n"
      ],
      "metadata": {
        "id": "vmH-WhoQMNdI"
      }
    },
    {
      "cell_type": "code",
      "source": [
        "set1 = {1, 2, 3, 4, 5}\n",
        "set1.remove(3)\n",
        "print(set1)\n",
        "\n",
        "# Attempting to remove an element that does not exist\n",
        "try:\n",
        "    set1.remove(10)\n",
        "except KeyError as e:\n",
        "    print(\"Error:\", e)\n",
        "\n",
        "# Using discard() Method\n",
        "set1.discard(4)\n",
        "print(set1)\n",
        "\n",
        "# Attempting to discard an element that does not exist\n",
        "set1.discard(10)  # No error raised\n",
        "print(set1)"
      ],
      "metadata": {
        "colab": {
          "base_uri": "https://localhost:8080/"
        },
        "id": "OLmVqsSZL1XW",
        "outputId": "cc1c9cf8-9a79-4cac-dac1-8a3663821827"
      },
      "execution_count": null,
      "outputs": [
        {
          "output_type": "stream",
          "name": "stdout",
          "text": [
            "{1, 2, 4, 5}\n",
            "Error: 10\n",
            "{1, 2, 5}\n",
            "{1, 2, 5}\n"
          ]
        }
      ]
    },
    {
      "cell_type": "markdown",
      "source": [
        "**Using pop() Method**\n",
        "pop() method removes and returns an arbitrary element from the set. This means we don't know which element will be removed. If the set is empty, it raises a KeyError."
      ],
      "metadata": {
        "id": "LDtfEfNkMbuZ"
      }
    },
    {
      "cell_type": "code",
      "source": [
        "set1 = {1, 2, 3, 4, 5}\n",
        "val = set1.pop()\n",
        "print(val)\n",
        "print(set1)\n",
        "\n",
        "# Using pop on an empty set\n",
        "set1.clear()  # Clear the set to make it empty\n",
        "try:\n",
        "    set1.pop()\n",
        "except KeyError as e:\n",
        "    print(\"Error:\", e)"
      ],
      "metadata": {
        "colab": {
          "base_uri": "https://localhost:8080/"
        },
        "id": "nkJkeQ5kMW1F",
        "outputId": "301996d8-7eca-4f3a-9f96-7aa9ebffc024"
      },
      "execution_count": null,
      "outputs": [
        {
          "output_type": "stream",
          "name": "stdout",
          "text": [
            "1\n",
            "{2, 3, 4, 5}\n",
            "Error: 'pop from an empty set'\n"
          ]
        }
      ]
    },
    {
      "cell_type": "markdown",
      "source": [
        "**Frozen Sets in Python**"
      ],
      "metadata": {
        "id": "KTy5XQnMMnCd"
      }
    },
    {
      "cell_type": "markdown",
      "source": [
        "A frozenset in Python is a built-in data type that is similar to a set but with one key difference that is immutability. This means that once a frozenset is created, we cannot modify its elements that is we cannot add, remove or change any items in it. Like regular sets, a frozenset cannot contain duplicate elements.\n",
        "\n",
        "If no parameters are passed, it returns an empty frozenset.  "
      ],
      "metadata": {
        "id": "GHmW_aZ0MruS"
      }
    },
    {
      "cell_type": "code",
      "source": [
        "fset = frozenset([1, 2, 3, 4, 5])\n",
        "print(fset)\n",
        "\n",
        "# Creating a frozenset from a set\n",
        "set1 = {3, 1, 4, 1, 5}\n",
        "fset = frozenset(set1)\n",
        "print(fset)"
      ],
      "metadata": {
        "colab": {
          "base_uri": "https://localhost:8080/"
        },
        "id": "ouNB7CgcMvEO",
        "outputId": "6c1d6078-88be-43a4-d382-7f75044482c4"
      },
      "execution_count": null,
      "outputs": [
        {
          "output_type": "stream",
          "name": "stdout",
          "text": [
            "frozenset({1, 2, 3, 4, 5})\n",
            "frozenset({1, 3, 4, 5})\n"
          ]
        }
      ]
    },
    {
      "cell_type": "markdown",
      "source": [
        "Typecasting Objects into Sets\n",
        "Typecasting objects into sets in Python refers to converting various data types into a set. Python provides the set() constructor to perform this typecasting, allowing us to convert lists, tuples and strings into sets."
      ],
      "metadata": {
        "id": "CPw4wyG1M35j"
      }
    },
    {
      "cell_type": "code",
      "source": [
        "li = [1, 2, 3, 3, 4, 5, 5, 6, 2]\n",
        "set1 = set(li)\n",
        "print(set1)\n",
        "\n",
        "# Typecasting string into set\n",
        "s = \"Welcometo RBG\"\n",
        "set1 = set(s)\n",
        "print(set1)\n",
        "\n",
        "# Typecasting dictionary into set\n",
        "d = {1: \"One\", 2: \"Two\", 3: \"Three\"}\n",
        "set1 = set(d)\n",
        "print(set1)"
      ],
      "metadata": {
        "colab": {
          "base_uri": "https://localhost:8080/"
        },
        "id": "9jDksBB1MywP",
        "outputId": "23f0f166-2144-444b-c06b-04049cdb2bec"
      },
      "execution_count": null,
      "outputs": [
        {
          "output_type": "stream",
          "name": "stdout",
          "text": [
            "{1, 2, 3, 4, 5, 6}\n",
            "{'G', 't', 'e', 'c', 'W', 'o', 'm', ' ', 'R', 'B', 'l'}\n",
            "{1, 2, 3}\n"
          ]
        }
      ]
    },
    {
      "cell_type": "code",
      "source": [],
      "metadata": {
        "id": "G2ReM8aIM9dh"
      },
      "execution_count": null,
      "outputs": []
    }
  ]
}