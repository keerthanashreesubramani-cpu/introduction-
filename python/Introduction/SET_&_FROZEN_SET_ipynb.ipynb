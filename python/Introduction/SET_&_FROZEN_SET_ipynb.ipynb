{
  "nbformat": 4,
  "nbformat_minor": 0,
  "metadata": {
    "colab": {
      "provenance": [],
      "authorship_tag": "ABX9TyOtmurRXFaGNh7iKttxNDs2",
      "include_colab_link": true
    },
    "kernelspec": {
      "name": "python3",
      "display_name": "Python 3"
    },
    "language_info": {
      "name": "python"
    }
  },
  "cells": [
    {
      "cell_type": "markdown",
      "metadata": {
        "id": "view-in-github",
        "colab_type": "text"
      },
      "source": [
        "<a href=\"https://colab.research.google.com/github/keerthanashreesubramani-cpu/introduction-/blob/main/python/Introduction/SET_%26_FROZEN_SET_ipynb.ipynb\" target=\"_parent\"><img src=\"https://colab.research.google.com/assets/colab-badge.svg\" alt=\"Open In Colab\"/></a>"
      ]
    },
    {
      "cell_type": "markdown",
      "source": [
        "**SET**\n",
        "Python set is an unordered collection of multiple items having different datatypes. In Python, sets are mutable, unindexed and do not contain duplicates. The order of elements in a set is not preserved and can change. Can store None values. Implemented using hash tables internally. Do not implement interfaces like Serializable or Cloneable. Python sets are not inherently thread-safe; synchronization is needed if used across threads."
      ],
      "metadata": {
        "id": "5sBiqWn2QSYu"
      }
    },
    {
      "cell_type": "code",
      "source": [
        "set1 = {1, 2, 3, 4}\n",
        "print(set1)"
      ],
      "metadata": {
        "colab": {
          "base_uri": "https://localhost:8080/"
        },
        "id": "DlcHeaFsQXDY",
        "outputId": "861351f7-3e3c-4937-ff30-3c855445663f"
      },
      "execution_count": null,
      "outputs": [
        {
          "output_type": "stream",
          "name": "stdout",
          "text": [
            "{1, 2, 3, 4}\n"
          ]
        }
      ]
    },
    {
      "cell_type": "code",
      "source": [
        "set1 = set()\n",
        "print(set1)\n",
        "\n",
        "set1 = set(\"RBG\")\n",
        "print(set1)\n",
        "\n",
        "# Creating a Set with the use of a List\n",
        "set1 = set([\"Welcome\", \"To\", \"RBG\"])\n",
        "print(set1)\n",
        "\n",
        "# Creating a Set with the use of a tuple\n",
        "tup = (\"Welcome\", \"To\", \"RBG\")\n",
        "print(set(tup))\n",
        "\n",
        "# Creating a Set with the use of a dictionary\n",
        "d = {\"Welcome\": 1, \"to\": 2, \"RBG\": 3}\n",
        "print(set(d))"
      ],
      "metadata": {
        "colab": {
          "base_uri": "https://localhost:8080/"
        },
        "id": "EYcLJZsNQa4G",
        "outputId": "8124160a-74f1-4214-ce11-aca7e2c35823"
      },
      "execution_count": null,
      "outputs": [
        {
          "output_type": "stream",
          "name": "stdout",
          "text": [
            "set()\n",
            "{'B', 'G', 'R'}\n",
            "{'Welcome', 'To', 'RBG'}\n",
            "{'Welcome', 'To', 'RBG'}\n",
            "{'Welcome', 'to', 'RBG'}\n"
          ]
        }
      ]
    },
    {
      "cell_type": "markdown",
      "source": [
        "**Unordered, Unindexed and Mutability**: In set, the order of elements is not guaranteed to be the same as the order in which they were added. The output could vary each time we run the program. Also the duplicate items entered are removed by itself.\n",
        "\n",
        "Sets do not support indexing. Trying to access an element by index (set[0]) raises a TypeError.\n",
        "\n",
        "We can add elements to the set using add(). We can remove elements from the set using remove(). The set changes after these operations, demonstrating its mutability. However, we cannot changes its items directly."
      ],
      "metadata": {
        "id": "dMQDMSZVQif_"
      }
    },
    {
      "cell_type": "markdown",
      "source": [],
      "metadata": {
        "id": "ftJmUBnjQjfy"
      }
    },
    {
      "cell_type": "code",
      "source": [
        "set1 = {3, 1, 4, 1, 5, 9, 2}\n",
        "\n",
        "print(set1)  # Output may vary: {1, 2, 3, 4, 5, 9}\n",
        "\n",
        "# Unindexed: Accessing elements by index is not possible\n",
        "# This will raise a TypeError\n",
        "try:\n",
        "    print(set1[0])\n",
        "except TypeError as e:\n",
        "    print(e)"
      ],
      "metadata": {
        "colab": {
          "base_uri": "https://localhost:8080/"
        },
        "id": "axft7HNGQdo3",
        "outputId": "0e6c9aa4-96d8-4abe-da5c-9ca3d99c08db"
      },
      "execution_count": null,
      "outputs": [
        {
          "output_type": "stream",
          "name": "stdout",
          "text": [
            "{1, 2, 3, 4, 5, 9}\n",
            "'set' object is not subscriptable\n"
          ]
        }
      ]
    },
    {
      "cell_type": "markdown",
      "source": [
        "Adding Elements to a Set in Python We can add items to a set using add() method and update() method. add() method can be used to add only a single item. To add multiple items we use update() method."
      ],
      "metadata": {
        "id": "DUsY_to0Qv2A"
      }
    },
    {
      "cell_type": "code",
      "source": [
        "# Creating a set\n",
        "set1 = {1, 2, 3}\n",
        "\n",
        "# Add one item\n",
        "set1.add(4)\n",
        "\n",
        "# Add multiple items\n",
        "set1.update([5, 6])\n",
        "\n",
        "print(set1)"
      ],
      "metadata": {
        "colab": {
          "base_uri": "https://localhost:8080/"
        },
        "id": "Z6UyTWvmQsug",
        "outputId": "7d1ca7a3-9177-4bb2-8ce0-3bbda77bb696"
      },
      "execution_count": null,
      "outputs": [
        {
          "output_type": "stream",
          "name": "stdout",
          "text": [
            "{1, 2, 3, 4, 5, 6}\n"
          ]
        }
      ]
    },
    {
      "cell_type": "markdown",
      "source": [
        "**Accessing a Set in Python :**We can loop through a set to access set items as set is unindexed and do not support accessing elements by indexing. Also we can use in keyword which is membership operator to check if an item exists in a set."
      ],
      "metadata": {
        "id": "2cpr586YQ4Nf"
      }
    },
    {
      "cell_type": "code",
      "source": [
        "set1 = set([\"Welcome\", \"To\", \"RBG\"])\n",
        "\n",
        "# Accessing element using For loop\n",
        "for i in set1:\n",
        "    print(i, end=\" \")\n",
        "\n",
        "# Checking the element# using in keyword\n",
        "print(\"Welcome\" in set1)"
      ],
      "metadata": {
        "colab": {
          "base_uri": "https://localhost:8080/"
        },
        "id": "maR2x_tfQ0xL",
        "outputId": "269a29d9-7dbb-42c1-b71f-e0bf0254e97c"
      },
      "execution_count": null,
      "outputs": [
        {
          "output_type": "stream",
          "name": "stdout",
          "text": [
            "Welcome To RBG True\n"
          ]
        }
      ]
    },
    {
      "cell_type": "markdown",
      "source": [
        "**Removing Elements from the Set in Python** We can remove an element from a set in Python using several methods: remove(), discard() and pop(). Each method works slightly differently :\n",
        "\n",
        "Using remove() Method or discard() Method Using pop() Method Using clear() Method Using remove() Method or discard() Method remove() method removes a specified element from the set. If the element is not present in the set, it raises a KeyError. discard() method also removes a specified element from the set. Unlike remove(), if the element is not found, it does not raise an error."
      ],
      "metadata": {
        "id": "QO5ZYFVIRJ0V"
      }
    },
    {
      "cell_type": "code",
      "source": [
        "set1 = {1, 2, 3, 4, 5}\n",
        "set1.remove(3)\n",
        "print(set1)\n",
        "\n",
        "# Attempting to remove an element that does not exist\n",
        "try:\n",
        "    set1.remove(10)\n",
        "except KeyError as e:\n",
        "    print(\"Error:\", e)\n",
        "\n",
        "# Using discard() Method\n",
        "set1.discard(4)\n",
        "print(set1)\n",
        "\n",
        "# Attempting to discard an element that does not exist\n",
        "set1.discard(10)  # No error raised\n",
        "print(set1)"
      ],
      "metadata": {
        "colab": {
          "base_uri": "https://localhost:8080/"
        },
        "id": "9aCMd510RHGq",
        "outputId": "08c09f5c-0fc6-4df3-a722-1e72759d328e"
      },
      "execution_count": null,
      "outputs": [
        {
          "output_type": "stream",
          "name": "stdout",
          "text": [
            "{1, 2, 4, 5}\n",
            "Error: 10\n",
            "{1, 2, 5}\n",
            "{1, 2, 5}\n"
          ]
        }
      ]
    },
    {
      "cell_type": "markdown",
      "source": [
        "**Using pop() Method pop()** method removes and returns an arbitrary element from the set. This means we don't know which element will be removed. If the set is empty, it raises a KeyError."
      ],
      "metadata": {
        "id": "I_pIc1dHRZvV"
      }
    },
    {
      "cell_type": "code",
      "source": [
        "set1 = {1, 2, 3, 4, 5}\n",
        "val = set1.pop()\n",
        "print(val)\n",
        "print(set1)\n",
        "\n",
        "# Using pop on an empty set\n",
        "set1.clear()  # Clear the set to make it empty\n",
        "try:\n",
        "    set1.pop()\n",
        "except KeyError as e:\n",
        "    print(\"Error:\", e)"
      ],
      "metadata": {
        "colab": {
          "base_uri": "https://localhost:8080/"
        },
        "id": "mPUuKqN0RXaD",
        "outputId": "c2eb705e-8beb-461e-89d1-1d80b088fc70"
      },
      "execution_count": null,
      "outputs": [
        {
          "output_type": "stream",
          "name": "stdout",
          "text": [
            "1\n",
            "{2, 3, 4, 5}\n",
            "Error: 'pop from an empty set'\n"
          ]
        }
      ]
    },
    {
      "cell_type": "markdown",
      "source": [
        "**Frozen Sets in Python:**\n",
        "A frozenset in Python is a built-in data type that is similar to a set but with one key difference that is immutability. This means that once a frozenset is created, we cannot modify its elements that is we cannot add, remove or change any items in it. Like regular sets, a frozenset cannot contain duplicate elements.\n",
        "\n",
        "If no parameters are passed, it returns an empty frozenset."
      ],
      "metadata": {
        "id": "JgxsCGKwRkzV"
      }
    },
    {
      "cell_type": "code",
      "source": [
        "fset = frozenset([1, 2, 3, 4, 5])\n",
        "print(fset)\n",
        "\n",
        "# Creating a frozenset from a set\n",
        "set1 = {3, 1, 4, 1, 5}\n",
        "fset = frozenset(set1)\n",
        "print(fset)"
      ],
      "metadata": {
        "colab": {
          "base_uri": "https://localhost:8080/"
        },
        "id": "338MjKi-RCVQ",
        "outputId": "4806c2d4-8004-4c19-9cd1-71b60b3f697c"
      },
      "execution_count": null,
      "outputs": [
        {
          "output_type": "stream",
          "name": "stdout",
          "text": [
            "frozenset({1, 2, 3, 4, 5})\n",
            "frozenset({1, 3, 4, 5})\n"
          ]
        }
      ]
    },
    {
      "cell_type": "markdown",
      "source": [
        "**Typecasting Objects into Sets** Typecasting objects into sets in Python refers to converting various data types into a set. Python provides the set() constructor to perform this typecasting, allowing us to convert lists, tuples and strings into sets."
      ],
      "metadata": {
        "id": "fuIqEHacR1da"
      }
    },
    {
      "cell_type": "code",
      "source": [
        "li = [1, 2, 3, 3, 4, 5, 5, 6, 2]\n",
        "set1 = set(li)\n",
        "print(set1)\n",
        "\n",
        "# Typecasting string into set\n",
        "s = \"Welcometo RBG\"\n",
        "set1 = set(s)\n",
        "print(set1)\n",
        "\n",
        "# Typecasting dictionary into set\n",
        "d = {1: \"One\", 2: \"Two\", 3: \"Three\"}\n",
        "set1 = set(d)\n",
        "print(set1)"
      ],
      "metadata": {
        "colab": {
          "base_uri": "https://localhost:8080/"
        },
        "id": "WH7hVebmRtMl",
        "outputId": "92af35d0-bc09-44d4-8b7d-269b12b49dcf"
      },
      "execution_count": null,
      "outputs": [
        {
          "output_type": "stream",
          "name": "stdout",
          "text": [
            "{1, 2, 3, 4, 5, 6}\n",
            "{'m', ' ', 'W', 'B', 'l', 'o', 'G', 't', 'e', 'R', 'c'}\n",
            "{1, 2, 3}\n"
          ]
        }
      ]
    },
    {
      "cell_type": "code",
      "source": [],
      "metadata": {
        "id": "mO7O5ctsR89I"
      },
      "execution_count": null,
      "outputs": []
    }
  ]
}